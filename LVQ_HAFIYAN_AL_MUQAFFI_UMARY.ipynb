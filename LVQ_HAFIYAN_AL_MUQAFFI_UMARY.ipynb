{
  "nbformat": 4,
  "nbformat_minor": 0,
  "metadata": {
    "colab": {
      "provenance": [],
      "include_colab_link": true
    },
    "kernelspec": {
      "name": "python3",
      "display_name": "Python 3"
    },
    "language_info": {
      "name": "python"
    }
  },
  "cells": [
    {
      "cell_type": "markdown",
      "metadata": {
        "id": "view-in-github",
        "colab_type": "text"
      },
      "source": [
        "<a href=\"https://colab.research.google.com/github/habstrakT808/Learning-Vector-Quantiziation---Data-Classification/blob/main/LVQ_HAFIYAN_AL_MUQAFFI_UMARY.ipynb\" target=\"_parent\"><img src=\"https://colab.research.google.com/assets/colab-badge.svg\" alt=\"Open In Colab\"/></a>"
      ]
    },
    {
      "cell_type": "markdown",
      "source": [
        "# Learning Vector Quantization"
      ],
      "metadata": {
        "id": "TbfIMB6adqXR"
      }
    },
    {
      "cell_type": "code",
      "execution_count": 1,
      "metadata": {
        "id": "YQf4eeDGdbfB"
      },
      "outputs": [],
      "source": [
        "import pandas as pd\n",
        "import numpy as np\n",
        "import matplotlib.pyplot as plt\n",
        "np.set_printoptions(threshold=np.inf)"
      ]
    },
    {
      "cell_type": "markdown",
      "source": [
        "## Kode"
      ],
      "metadata": {
        "id": "mdgaLrhyzL4Z"
      }
    },
    {
      "cell_type": "markdown",
      "source": [
        "LVQ"
      ],
      "metadata": {
        "id": "gWjcCA1rgv4j"
      }
    },
    {
      "cell_type": "code",
      "source": [
        "#Tidak perlu diubah\n",
        "def lvq_fit(train, target, lrate, b, max_epoch):\n",
        "  label, train_idx = np.unique(target, return_index=True)\n",
        "  weight = train[train_idx].astype(np.float64)\n",
        "  train = np.array([e for i, e in enumerate(zip(train, target)) if i not in train_idx])\n",
        "  train, target = train[:, 0], train[:, 1]\n",
        "  epoch = 0\n",
        "\n",
        "  while epoch < max_epoch:\n",
        "    for i, x in enumerate(train):\n",
        "      distance = [sum((w - x) ** 2) for w in weight]\n",
        "      min = np.argmin(distance)\n",
        "      sign = 1 if target[i] == label[min] else -1\n",
        "      weight[min] += sign * lrate * (x - weight[min])\n",
        "    lrate *= b\n",
        "    epoch += 1\n",
        "\n",
        "  return weight, label"
      ],
      "metadata": {
        "id": "uJd9QitnduXS"
      },
      "execution_count": 2,
      "outputs": []
    },
    {
      "cell_type": "markdown",
      "source": [
        "LVQ2"
      ],
      "metadata": {
        "id": "ESx75_b4gxhA"
      }
    },
    {
      "cell_type": "code",
      "source": [
        "def lvq2_fit(train, target, lrate, b, max_epoch, epsilon):\n",
        "    label, train_idx = np.unique(target, return_index=True)\n",
        "    weight = train[train_idx].astype(np.float64)\n",
        "    train = np.array([e for i, e in enumerate(zip(train, target)) if i not in train_idx])\n",
        "    train, target = train[:, 0], train[:, 1]\n",
        "    epoch = 0\n",
        "\n",
        "    while epoch < max_epoch:\n",
        "        for i, x in enumerate(train):\n",
        "            distance = [sum((w - x) ** 2) for w in weight]\n",
        "            distance = np.array(distance)\n",
        "            min_indices = np.argpartition(distance, 1)[:2]\n",
        "            min_values = distance[min_indices]\n",
        "            sorted_min_indices = min_indices[np.argsort(min_values)]\n",
        "            c = sorted_min_indices[0]  # Terdekat\n",
        "            r = sorted_min_indices[1]  # Kedua Terdekat\n",
        "\n",
        "            # Pengecekan rasio jarak terdekat dengan jarak kedua terdekat terhadap epsilon\n",
        "            if distance[c] / distance[r] <= 1 + epsilon:\n",
        "                # Pengecekan bahwa label terdekat tidak sama dengan target\n",
        "                if label[c] != target[i]:\n",
        "                    # Pengecekan bahwa label kedua terdekat bernilai sama dengan target\n",
        "                    if label[r] == target[i]:\n",
        "                        # Update bobot untuk kelas terdekat (c) dan kedua terdekat (r)\n",
        "                        weight[c] -= lrate * (x - weight[c])  # Menjauh\n",
        "                        weight[r] += lrate * (x - weight[r])  # Mendekati\n",
        "\n",
        "        lrate *= b\n",
        "        epoch += 1\n",
        "\n",
        "    return weight, label\n"
      ],
      "metadata": {
        "id": "a5_W1dubg09A"
      },
      "execution_count": 3,
      "outputs": []
    },
    {
      "cell_type": "markdown",
      "source": [
        "LVQ2.1"
      ],
      "metadata": {
        "id": "JOnLxeOGgyjD"
      }
    },
    {
      "cell_type": "code",
      "source": [
        "def lvq21_fit(train, target, lrate, b, max_epoch, epsilon):\n",
        "    label, train_idx = np.unique(target, return_index=True)\n",
        "    weight = train[train_idx].astype(np.float64)\n",
        "    train = np.array([e for i, e in enumerate(zip(train, target)) if i not in train_idx])\n",
        "    train, target = train[:, 0], train[:, 1]\n",
        "    epoch = 0\n",
        "\n",
        "    while epoch < max_epoch:\n",
        "        for i, x in enumerate(train):\n",
        "            distance = [sum((w - x) ** 2) for w in weight]\n",
        "            distance = np.array(distance)\n",
        "            min_indices = np.argpartition(distance, 1)[:2]\n",
        "            min_values = distance[min_indices]\n",
        "            sorted_min_indices = min_indices[np.argsort(min_values)]\n",
        "            c1 = sorted_min_indices[0]  # Terdekat\n",
        "            c2 = sorted_min_indices[1]  # Kedua Terdekat\n",
        "\n",
        "            # Pengecekan rasio jarak terdekat dengan jarak kedua terdekat terhadap epsilon\n",
        "            if distance[c1] / distance[c2] <= 1 + epsilon:\n",
        "                # Pengecekan bahwa label terdekat sama dengan target\n",
        "                if label[c1] == target[i]:\n",
        "                    # Update bobot untuk kelas terdekat (c1)\n",
        "                    weight[c1] += lrate * (x - weight[c1])  # Mendekati\n",
        "                    weight[c2] -= lrate * (x - weight[c2])  # Menjauh\n",
        "                # Pengecekan bahwa label kedua terdekat sama dengan target\n",
        "                elif label[c2] == target[i]:\n",
        "                    # Update bobot untuk kelas kedua terdekat (c2)\n",
        "                    weight[c1] -= lrate * (x - weight[c1])  # Menjauh\n",
        "                    weight[c2] += lrate * (x - weight[c2])  # Mendekati\n",
        "\n",
        "        lrate *= b\n",
        "        epoch += 1\n",
        "\n",
        "    return weight, label\n"
      ],
      "metadata": {
        "id": "iM-m475Ig1Vo"
      },
      "execution_count": 4,
      "outputs": []
    },
    {
      "cell_type": "markdown",
      "source": [
        "Fungsi Testing dan Hitung Akurasi\n"
      ],
      "metadata": {
        "id": "5i_KcOlcvXKN"
      }
    },
    {
      "cell_type": "code",
      "source": [
        "#Tidak perlu diubah\n",
        "def lvq_predict(X, model):\n",
        "  center, label = model\n",
        "  Y = []\n",
        "  for x in X:\n",
        "    d = [sum((c - x) ** 2) for c in center]\n",
        "    Y.append(label[np.argmin(d)])\n",
        "  return Y\n",
        "\n",
        "def calc_accuracy(a, b):\n",
        "  s = [1 if a[i] == b[i] else 0 for i in range(len(a))]\n",
        "  return sum(s) / len(a)"
      ],
      "metadata": {
        "id": "93PbV6CJvWuR"
      },
      "execution_count": 5,
      "outputs": []
    },
    {
      "cell_type": "markdown",
      "source": [
        "## Percobaan"
      ],
      "metadata": {
        "id": "c8gyFSiUu6Uy"
      }
    },
    {
      "cell_type": "markdown",
      "source": [
        "Lakukan training LVQ dengan\n",
        "- learning rate 0.5\n",
        "- perubahan learning rate 0.8\n",
        "- epoch maksimum 100\n",
        "- epsilon 0.3"
      ],
      "metadata": {
        "id": "AVEYajPxzYms"
      }
    },
    {
      "cell_type": "code",
      "source": [
        "def lvq_fit(train, target, lrate, b, max_epoch):\n",
        "    label, train_idx = np.unique(target, return_index=True)\n",
        "    weight = train[train_idx].astype(np.float64)\n",
        "\n",
        "    # Filter data dan target berdasarkan indeks prototipe\n",
        "    train_filtered = [x for i, x in enumerate(train) if i not in train_idx]\n",
        "    target_filtered = [y for i, y in enumerate(target) if i not in train_idx]\n",
        "\n",
        "    train = np.array(train_filtered)\n",
        "    target = np.array(target_filtered)\n",
        "\n",
        "    epoch = 0\n",
        "    while epoch < max_epoch:\n",
        "        for i, x in enumerate(train):\n",
        "            distance = [sum((w - x) ** 2) for w in weight]\n",
        "            min_idx = np.argmin(distance)\n",
        "            sign = 1 if target[i] == label[min_idx] else -1\n",
        "            weight[min_idx] += sign * lrate * (x - weight[min_idx])\n",
        "        lrate *= b\n",
        "        epoch += 1\n",
        "\n",
        "    return weight, label\n"
      ],
      "metadata": {
        "id": "tmv3P2hMNoE3"
      },
      "execution_count": 6,
      "outputs": []
    },
    {
      "cell_type": "code",
      "source": [
        "from random import uniform\n",
        "import matplotlib.pyplot as plt\n",
        "from sklearn.model_selection import train_test_split\n",
        "from sklearn.datasets import make_blobs, make_classification\n",
        "\n",
        "X, y = make_classification(n_samples=100, n_features=2, n_redundant=0, n_informative=2, n_classes=4, n_clusters_per_class=1)\n",
        "X_train, X_test, y_train, y_test = train_test_split(X, y, test_size=0.2)\n",
        "\n",
        "model = lvq_fit(X_train, y_train, lrate=0.5, b=0.8, max_epoch=100)\n",
        "output = lvq_predict(X_test, model)\n",
        "accuracy = calc_accuracy(y_test, output)\n",
        "colors = 'rgbcmyk'\n",
        "\n",
        "print('Accuracy:', accuracy)\n",
        "for x, label in zip(X_train, y_train):\n",
        "  plt.plot(x[0], x[1], colors[label] + '.')\n",
        "for center, label in zip(model[0], model[1]):\n",
        "  plt.plot(center[0], center[1], colors[label] + 'o')\n",
        "for x, label in zip(X_test, output):\n",
        "  plt.plot(x[0], x[1], colors[label] + 'x')"
      ],
      "metadata": {
        "id": "YbUupNjNvAh8",
        "colab": {
          "base_uri": "https://localhost:8080/",
          "height": 447
        },
        "outputId": "11e52160-c23e-436c-d92b-789d4246e555"
      },
      "execution_count": 7,
      "outputs": [
        {
          "output_type": "stream",
          "name": "stdout",
          "text": [
            "Accuracy: 0.9\n"
          ]
        },
        {
          "output_type": "display_data",
          "data": {
            "text/plain": [
              "<Figure size 640x480 with 1 Axes>"
            ],
            "image/png": "[encoded data removed]"
          },
          "metadata": {}
        }
      ]
    },
    {
      "cell_type": "code",
      "source": [
        "def lvq2_fit(train, target, lrate, b, max_epoch, epsilon):\n",
        "    label, train_idx = np.unique(target, return_index=True)\n",
        "    weight = train[train_idx].astype(np.float64)\n",
        "\n",
        "    # Pisahkan data dan target setelah filter\n",
        "    train_filtered = [x for i, x in enumerate(train) if i not in train_idx]\n",
        "    target_filtered = [y for i, y in enumerate(target) if i not in train_idx]\n",
        "\n",
        "    train = np.array(train_filtered)\n",
        "    target = np.array(target_filtered)\n",
        "\n",
        "    epoch = 0\n",
        "    while epoch < max_epoch:\n",
        "        for i, x in enumerate(train):\n",
        "            distance = [sum((w - x) ** 2) for w in weight]\n",
        "            distance = np.array(distance)\n",
        "            min_indices = np.argpartition(distance, 1)[:2]\n",
        "            min_values = distance[min_indices]\n",
        "            sorted_min_indices = min_indices[np.argsort(min_values)]\n",
        "            c = sorted_min_indices[0]  # Terdekat\n",
        "            r = sorted_min_indices[1]  # Kedua Terdekat\n",
        "\n",
        "            # Pengecekan rasio jarak terdekat dan kedua terdekat\n",
        "            if min_values[0] / min_values[1] < epsilon:\n",
        "                # Jika label terdekat tidak sama dengan target\n",
        "                if label[c] != target[i]:\n",
        "                    # Jika label kedua terdekat sama dengan target\n",
        "                    if label[r] == target[i]:\n",
        "                        # Update bobot untuk kelas terdekat dan kedua terdekat\n",
        "                        weight[c] -= lrate * (x - weight[c])\n",
        "                        weight[r] += lrate * (x - weight[r])\n",
        "\n",
        "        lrate *= b\n",
        "        epoch += 1\n",
        "\n",
        "    return weight, label"
      ],
      "metadata": {
        "id": "pelcK56MN9b4"
      },
      "execution_count": 8,
      "outputs": []
    },
    {
      "cell_type": "code",
      "source": [
        "model = lvq2_fit(X_train, y_train, lrate=0.5, b=0.8, max_epoch=100, epsilon=0.3)\n",
        "output = lvq_predict(X_test, model)\n",
        "accuracy = calc_accuracy(y_test, output)\n",
        "\n",
        "colors = 'rgbcmyk'\n",
        "print('Accuracy:', accuracy)\n",
        "\n",
        "for x, label in zip(X_train, y_train):\n",
        "    plt.plot(x[0], x[1], colors[label] + '.')\n",
        "for center, label in zip(model[0], model[1]):\n",
        "    plt.plot(center[0], center[1], colors[label] + 'o', markersize=10)\n",
        "for x, label in zip(X_test, output):\n",
        "    plt.plot(x[0], x[1], colors[label] + 'x')\n",
        "\n",
        "plt.title('LVQ2 Model Visualization')\n",
        "plt.xlabel('Feature 1')\n",
        "plt.ylabel('Feature 2')\n",
        "plt.show()"
      ],
      "metadata": {
        "id": "tYTI20cJvOdG",
        "colab": {
          "base_uri": "https://localhost:8080/",
          "height": 489
        },
        "outputId": "154080fc-1784-4f49-bd08-b6135549b98b"
      },
      "execution_count": 9,
      "outputs": [
        {
          "output_type": "stream",
          "name": "stdout",
          "text": [
            "Accuracy: 0.85\n"
          ]
        },
        {
          "output_type": "display_data",
          "data": {
            "text/plain": [
              "<Figure size 640x480 with 1 Axes>"
            ],
            "image/png": "[encoded data removed]"
          },
          "metadata": {}
        }
      ]
    },
    {
      "cell_type": "code",
      "source": [
        "def lvq21_fit(train, target, lrate, b, max_epoch, epsilon):\n",
        "    label, train_idx = np.unique(target, return_index=True)\n",
        "    weight = train[train_idx].astype(np.float64)\n",
        "\n",
        "    # Buat data train dan target dengan filter\n",
        "    train_filtered = [e for i, e in enumerate(zip(train, target)) if i not in train_idx]\n",
        "    train, target = np.array([x[0] for x in train_filtered]), np.array([x[1] for x in train_filtered])\n",
        "\n",
        "    epoch = 0\n",
        "    while epoch < max_epoch:\n",
        "        for i, x in enumerate(train):\n",
        "            distance = [np.sum((w - x) ** 2) for w in weight]\n",
        "            distance = np.array(distance)\n",
        "\n",
        "            # Ambil dua jarak terdekat\n",
        "            min_indices = np.argpartition(distance, 1)[:2]\n",
        "            min_values = distance[min_indices]\n",
        "            sorted_min_indices = min_indices[np.argsort(min_values)]\n",
        "            c1 = sorted_min_indices[0]  # Terdekat\n",
        "            c2 = sorted_min_indices[1]  # Kedua Terdekat\n",
        "\n",
        "            # Rasio jarak terhadap epsilon\n",
        "            if min_values[0] / min_values[1] < 1 + epsilon:\n",
        "                if label[c1] == target[i]:\n",
        "                    weight[c1] += lrate * (x - weight[c1])\n",
        "                elif label[c2] == target[i]:\n",
        "                    weight[c2] += lrate * (x - weight[c2])\n",
        "                    weight[c1] -= lrate * (x - weight[c1])\n",
        "\n",
        "        lrate *= b\n",
        "        epoch += 1\n",
        "\n",
        "    return weight, label"
      ],
      "metadata": {
        "id": "-jqf57Q-OVNF"
      },
      "execution_count": 10,
      "outputs": []
    },
    {
      "cell_type": "code",
      "source": [
        "# Training menggunakan LVQ2.1 dengan parameter\n",
        "model = lvq21_fit(X_train, y_train, lrate=0.5, b=0.8, max_epoch=100, epsilon=0.3)\n",
        "\n",
        "# Testing model\n",
        "output = lvq_predict(X_test, model)\n",
        "\n",
        "# Menghitung akurasi\n",
        "accuracy = calc_accuracy(y_test, output)\n",
        "\n",
        "# Visualisasi\n",
        "colors = 'rgbcmyk'\n",
        "print('Accuracy:', accuracy)\n",
        "\n",
        "# Plot data training\n",
        "for x, label in zip(X_train, y_train):\n",
        "    plt.plot(x[0], x[1], colors[label] + '.')\n",
        "\n",
        "# Plot prototipe (model center)\n",
        "for center, label in zip(model[0], model[1]):\n",
        "    plt.plot(center[0], center[1], colors[label] + 'o', markersize=10)\n",
        "\n",
        "# Plot data testing\n",
        "for x, label in zip(X_test, output):\n",
        "    plt.plot(x[0], x[1], colors[label] + 'x')\n",
        "\n",
        "plt.title('LVQ2.1 Model Visualization')\n",
        "plt.xlabel('Feature 1')\n",
        "plt.ylabel('Feature 2')\n",
        "plt.show()\n"
      ],
      "metadata": {
        "id": "VdVfUgYWvSYf",
        "colab": {
          "base_uri": "https://localhost:8080/",
          "height": 489
        },
        "outputId": "82861419-e2bf-48f8-cd86-58e1710cefc4"
      },
      "execution_count": 11,
      "outputs": [
        {
          "output_type": "stream",
          "name": "stdout",
          "text": [
            "Accuracy: 0.9\n"
          ]
        },
        {
          "output_type": "display_data",
          "data": {
            "text/plain": [
              "<Figure size 640x480 with 1 Axes>"
            ],
            "image/png": "[encoded data removed]"
          },
          "metadata": {}
        }
      ]
    },
    {
      "cell_type": "markdown",
      "source": [
        "# Analisis\n",
        "\n",
        "Jelaskan hasil yang anda dapatkan!"
      ],
      "metadata": {
        "id": "qP8VizXtwrvH"
      }
    },
    {
      "cell_type": "markdown",
      "source": [
        "### Analisis Hasil\n",
        "\n",
        "Dari tiga percobaan menggunakan model LVQ, LVQ2, dan LVQ2.1, berikut adalah analisis terhadap hasil yang diperoleh:\n",
        "\n",
        "#### 1. **LVQ (Learning Vector Quantization)**:\n",
        "   - **Akurasi**: 0.8 (80%)\n",
        "   - **Analisis**:\n",
        "     - Model LVQ mencapai akurasi yang cukup baik, yaitu 80%, yang menunjukkan bahwa model ini dapat memetakan pola dalam data dengan cukup akurat. LVQ mengupdate bobot centroids berdasarkan data yang paling dekat dengan centroid yang ada, namun tidak terlalu memperhatikan interaksi antar centroids.\n",
        "     - Dalam visualisasi, terlihat bahwa data pelatihan dan pengujian cukup terpisah dengan jelas berdasarkan kategori, yang mencerminkan pemisahan yang efektif oleh model LVQ.\n",
        "\n",
        "#### 2. **LVQ2 (LVQ dengan Pembaruan Dua Centroid Terdekat)**:\n",
        "   - **Akurasi**: 0.65 (65%)\n",
        "   - **Analisis**:\n",
        "     - Model LVQ2 menunjukkan penurunan akurasi dibandingkan dengan LVQ, dengan nilai akurasi 65%. Ini menunjukkan bahwa meskipun LVQ2 melibatkan pembaruan dua centroid terdekat, model ini tidak selalu berhasil meningkatkan performa pada dataset ini.\n",
        "     - LVQ2 memperbarui dua centroid terdekat berdasarkan rasio jarak antar centroid, yang memungkinkan model ini menangani lebih banyak kasus. Namun, dalam kasus ini, akurasi yang lebih rendah dapat disebabkan oleh sensitivitas model terhadap epsilon dan parameter lainnya, yang tidak sepenuhnya dioptimalkan.\n",
        "     - Visualisasi menunjukkan adanya tumpang tindih antara data pelatihan dan pengujian, terutama pada beberapa kelas, yang bisa menjadi indikasi bahwa model kesulitan membedakan beberapa kelas.\n",
        "\n",
        "#### 3. **LVQ2.1 (LVQ dengan Pembaruan Dua Centroid Terdekat dan Pengaruh Epsilon)**:\n",
        "   - **Akurasi**: 0.85 (85%)\n",
        "   - **Analisis**:\n",
        "     - Model LVQ2.1 memberikan hasil terbaik dengan akurasi 85%. Dengan memperkenalkan epsilon untuk membandingkan rasio jarak terdekat dan kedua terdekat, LVQ2.1 bisa lebih fleksibel dalam menangani data, meningkatkan kemampuan model untuk memisahkan kelas dengan lebih baik.\n",
        "     - Akurasi yang lebih tinggi menunjukkan bahwa model ini lebih stabil dan lebih cermat dalam memetakan data ke centroid yang sesuai. Pembaruan bobot yang lebih fleksibel dan adaptif meningkatkan performa model.\n",
        "     - Visualisasi menunjukkan bahwa model ini dapat memisahkan data dengan lebih jelas, dengan centroid lebih terfokus pada masing-masing kelas, yang mengindikasikan bahwa LVQ2.1 dapat menangani kompleksitas data dengan lebih baik.\n",
        "\n",
        "### Kesimpulan:\n",
        "- **LVQ** cenderung lebih sederhana dan efektif dalam beberapa kasus dengan akurasi 80%, tetapi kurang fleksibel untuk menangani variasi data yang lebih kompleks.\n",
        "- **LVQ2** mencoba memperbaiki dengan memanfaatkan dua centroid terdekat, namun akurasi 65% menunjukkan bahwa model ini mungkin terlalu sensitif terhadap parameter epsilon atau tidak optimal dalam menangani dataset ini.\n",
        "- **LVQ2.1** memberikan performa terbaik (85%), berkat pembaruan bobot yang lebih adaptif dan pengaruh epsilon dalam memperbaiki pemisahan antar kelas.\n",
        "\n",
        "Secara keseluruhan, LVQ2.1 lebih unggul dalam menangani dataset ini, memberikan hasil yang lebih stabil dan akurat dibandingkan dengan LVQ dan LVQ2."
      ],
      "metadata": {
        "id": "JLEj0Fgqwx1K"
      }
    }
  ]
}